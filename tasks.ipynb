{
 "cells": [
  {
   "cell_type": "markdown",
   "id": "95fad1bb",
   "metadata": {},
   "source": [
    "Tasks to do:\n",
    "Sundnes:\n",
    "week 1: 2.7, 2.8, 2.9, 2.15, 2.18, 3.3, 3.6, 3.17\n",
    "week 2: 4.4, 4.9, 4.10, 4.12, 4.13, 4.17, 4.23\n",
    "week 3: 5.1, 5.2, 5.3, 5.4, 5.10, 5.12, 5.14, 5.28, 5.46, 5.54"
   ]
  },
  {
   "cell_type": "markdown",
   "id": "2fcfda6f",
   "metadata": {},
   "source": [
    "Practice notes:\n",
    "- list comperhention "
   ]
  },
  {
   "cell_type": "markdown",
   "id": "1fad9a76",
   "metadata": {},
   "source": [
    "# Week 1"
   ]
  },
  {
   "cell_type": "markdown",
   "id": "6774c511",
   "metadata": {},
   "source": [
    "## Exercise 2.7: generate equally spaced coordinates\n",
    "We want to generate n + 1 equally spaced x coordinates in [a, b]. Store the coordinates in a list\n",
    "\n",
    "    a) Start with an empty list use a for loop and append each \n",
    "     coordinate to the list.\n",
    "    \n",
    "    hint: with n intervals, corresponding to n+1 points, in [a, b], \n",
    "    each interval has length h= (b-a)/n. The coordinates can then be \n",
    "    genereated by the formula xi = a + ih, i = 0,....,n + 1\n",
    "    \n",
    "    b) use a list comperhension as an alternative implmentation\n"
   ]
  },
  {
   "cell_type": "code",
   "execution_count": null,
   "id": "c0cb5d8b",
   "metadata": {},
   "outputs": [],
   "source": [
    "# Make a list to store the coordinates\n",
    "a = int(input(\"Starting point (a):\"))\n",
    "b = int(input(\"Ending point (b):\"))\n",
    "n = int(input(\"Number of intervals (n):\"))\n",
    "coordinates = []\n",
    "# we need to know spaces between each coordinate which is given by h\n",
    "h = (b - a)/n"
   ]
  },
  {
   "cell_type": "code",
   "execution_count": null,
   "id": "021145e4",
   "metadata": {},
   "outputs": [],
   "source": [
    "# for each i we need to move h \n",
    "for i in range(n+1):\n",
    "    x_i = a + i*h\n",
    "    coordinates.append(x_i)\n",
    "coordinates\n",
    "\n",
    "\n",
    "    "
   ]
  },
  {
   "cell_type": "markdown",
   "id": "5fa145de",
   "metadata": {},
   "source": [
    "## Exercise 2.8: Make a table of values from a formula\n",
    "The purpose of this exercise is to write a code that prints a nicely formatted table of t and y(t) values, where:\n",
    "\n",
    "$$ y(t) = v_0 t - \\frac{1}{2} g t^2 $$\n",
    "\n",
    "Use n + 1 uniformly spaced t values throughout the interval [0,2v0/g]\n",
    "\n",
    "a) Use a for loop to produce the table\n",
    "<br> b) Add code with a while loop to produce the table\n",
    "\n",
    "hint: Because of potential round-off errors, you may need to adjust the upper limit of the while loop to ensure that the last point (t= 2v0/g, y = 0) is included.\n",
    "\n"
   ]
  },
  {
   "cell_type": "code",
   "execution_count": 8,
   "id": "d7009fb2",
   "metadata": {},
   "outputs": [
    {
     "name": "stdout",
     "output_type": "stream",
     "text": [
      "Input value for V0: 5\n",
      "Input value for g: 5\n",
      "Input value for n: 5\n"
     ]
    }
   ],
   "source": [
    "v = int(input(\"Input value for V0: \"))\n",
    "g = float(input(\"Input value for g: \"))\n",
    "n = int(input(\"Input value for n: \"))\n"
   ]
  },
  {
   "cell_type": "code",
   "execution_count": 9,
   "id": "7a8eafde",
   "metadata": {},
   "outputs": [
    {
     "name": "stdout",
     "output_type": "stream",
     "text": [
      "t: 0.00, y(t): 0.00\n",
      "t: 0.40, y(t): 1.60\n",
      "t: 0.80, y(t): 2.40\n",
      "t: 1.20, y(t): 2.40\n",
      "t: 1.60, y(t): 1.60\n",
      "t: 2.00, y(t): 0.00\n"
     ]
    }
   ],
   "source": [
    "step_size = (2 * v) / (n * g)\n",
    "for i in range(n + 1):\n",
    "    t = i * step_size\n",
    "    y_t = v * t - 1/2 * g * t**2\n",
    "    print(f\"t: {t:.2f}, y(t): {y_t:.2f}\")\n"
   ]
  },
  {
   "cell_type": "markdown",
   "id": "21274b94",
   "metadata": {},
   "source": [
    "## Exercise 2.9 \n",
    "\n",
    "This exercise aims to produce the same table of numbers as in Exercise 2.8, but with different code. First, store the t and y values in two lists t and y. Thereafter, write out a nicely formatted table by traversing the two lists with a for loop.\n",
    "\n",
    "Hint In the for loop, use either zip to traverse the two lists in parallel, or use an index and the range construction."
   ]
  },
  {
   "cell_type": "code",
   "execution_count": 20,
   "id": "fb6cffb7",
   "metadata": {},
   "outputs": [
    {
     "name": "stdout",
     "output_type": "stream",
     "text": [
      " t    |    y\n",
      "--------------\n",
      "0.00 | 0.00\n",
      "0.40 | 1.60\n",
      "0.80 | 2.40\n",
      "1.20 | 2.40\n",
      "1.60 | 1.60\n",
      "2.00 | 0.00\n"
     ]
    }
   ],
   "source": [
    "list_t = []\n",
    "list_y = []\n",
    "\n",
    "for i in range(n + 1):\n",
    "    t = i * step_size\n",
    "    y = v * t - 1/2 * g * t**2\n",
    "    list_t.append(t)\n",
    "    list_y.append(y)\n",
    "print(\" t    |    y\")\n",
    "print(\"--------------\")\n",
    "    \n",
    "for t, y in zip(list_t, list_y): \n",
    "    print(f\"{t:.2f} | {y:.2f}\")"
   ]
  },
  {
   "cell_type": "markdown",
   "id": "f13e356f",
   "metadata": {},
   "source": [
    "## Exercise 2.15\n",
    "We define the following nested list:\n",
    "\n",
    "q = [[’a’, ’b’, ’c’], [’d’, ’e’, ’f’], [’g’, ’h’]]\n",
    "\n",
    "    a) Index this list to extract:\n",
    "        1) the letter a; \n",
    "        2) the list [’d’, ’e’, ’f’]; \n",
    "        3) the last element h; \n",
    "        4) the d element. \n",
    "        Explain why q[-1][-2] has the value g.\n",
    "\n",
    "    b) We can visit all elements of q using this nested for loop:\n",
    "        What type of objects are i and j?"
   ]
  },
  {
   "cell_type": "code",
   "execution_count": 30,
   "id": "a349e45d",
   "metadata": {},
   "outputs": [
    {
     "name": "stdout",
     "output_type": "stream",
     "text": [
      "a\n",
      "['d', 'e', 'f']\n",
      "h\n",
      "d\n"
     ]
    }
   ],
   "source": [
    "# a)\n",
    "q = [[\"a\", \"b\", \"c\"], [\"d\", \"e\", \"f\"], [\"g\", \"h\"]]\n",
    "\n",
    "print(q[0][0])\n",
    "print(q[1])\n",
    "print(q[-1][-1])\n",
    "print(q[1][0])\n",
    "\n",
    "# The reason why q[-1][-2] has g is because of the minus, minus indexing gives out the last numbers"
   ]
  },
  {
   "cell_type": "code",
   "execution_count": 35,
   "id": "06ad5b87",
   "metadata": {},
   "outputs": [
    {
     "name": "stdout",
     "output_type": "stream",
     "text": [
      "a\n",
      "b\n",
      "c\n",
      "d\n",
      "e\n",
      "f\n",
      "g\n",
      "h\n",
      "<class 'list'>\n",
      "<class 'int'>\n"
     ]
    }
   ],
   "source": [
    "# b)\n",
    "for i in q:\n",
    "    for j in range(len(i)):\n",
    "        print(i[j])\n",
    "print(type(i))\n",
    "print(type(j))"
   ]
  },
  {
   "cell_type": "markdown",
   "id": "91559aa1",
   "metadata": {},
   "source": [
    "## Exercise 2.18\n",
    "\n",
    "Explain the outcome of each of the following boolean expressions:\n",
    "    C = 41 \\\n",
    "    C == 40\\\n",
    "    C != 40 and C < 41\\ \n",
    "    C!=40 or C<41\\\n",
    "    not C == 40\\\n",
    "    not C > 40\\\n",
    "    C <= 41\\\n",
    "    not False\\\n",
    "    True and False\\\n",
    "    False or True\\\n",
    "    False or False or False True and True and False False == 0\\\n",
    "    True == 0\\\n",
    "    True == 1 \n",
    "\n",
    "Note:\n",
    "It makes sense to compare True and False to the integers 0 and 1, but not other integers (e.g., True == 12 is False although the integer 12 evaluates to True in a boolean context, as in bool(12) or if 12)."
   ]
  },
  {
   "cell_type": "code",
   "execution_count": 44,
   "id": "c9eebb56",
   "metadata": {},
   "outputs": [
    {
     "data": {
      "text/plain": [
       "[False,\n",
       " True,\n",
       " False,\n",
       " True,\n",
       " True,\n",
       " False,\n",
       " True,\n",
       " True,\n",
       " False,\n",
       " True,\n",
       " False,\n",
       " False,\n",
       " True,\n",
       " False,\n",
       " True]"
      ]
     },
     "execution_count": 44,
     "metadata": {},
     "output_type": "execute_result"
    }
   ],
   "source": [
    "C = 41 \n",
    "expressions = [\n",
    "    C == 40, #false\n",
    "    C == 41, #true\n",
    "    C != 40 and C < 41, #true\n",
    "    C != 40 or C < 41, #false\n",
    "    not C == 40, #true\n",
    "    not C > 40, #true\n",
    "    C <= 41, #false\n",
    "    not False, #true\n",
    "    True and False, \n",
    "    False or True, \n",
    "    False or False or False, \n",
    "    True and True and False, \n",
    "    False == 0, \n",
    "    True == 0,\n",
    "    True == 1\n",
    "]\n",
    "\n",
    "results = [expr for expr in expressions]\n",
    "\n",
    "results"
   ]
  },
  {
   "cell_type": "markdown",
   "id": "8ccf53fb",
   "metadata": {},
   "source": [
    "## Exercise 3.3\n",
    "Explain how the following program works:\n",
    "\n",
    "\n",
    "  Figure out what is being printed without running the program."
   ]
  },
  {
   "cell_type": "code",
   "execution_count": 52,
   "id": "e3d02df0",
   "metadata": {},
   "outputs": [
    {
     "name": "stdout",
     "output_type": "stream",
     "text": [
      "5\n",
      "27\n"
     ]
    }
   ],
   "source": [
    "# will output 5 and 27\n",
    "def add(A, B):\n",
    "    C=A+B\n",
    "    return C\n",
    "\n",
    "a=3\n",
    "b=2\n",
    "print(add(a, b))\n",
    "print(add(2*a, b+1)*3)"
   ]
  },
  {
   "cell_type": "markdown",
   "id": "13271967",
   "metadata": {},
   "source": [
    "## Exercise 3.6\n",
    "def test_double():\\\n",
    "    assert double(2) == 4\\\n",
    "    assert abs(double(0.1) - 0.2) < 1E-15\\\n",
    "    assert double([1, 2]) == [1, 2, 1, 2]\\\n",
    "    assert double((1, 2)) == (1, 2, 1, 2)\\\n",
    "    assert double(3+4j) == 6+8j\\\n",
    "    assert double(’hello’) == ’hellohello’"
   ]
  },
  {
   "cell_type": "code",
   "execution_count": 77,
   "id": "d174fdde",
   "metadata": {},
   "outputs": [],
   "source": [
    "def doubble(number):\n",
    "    C = number * 2\n",
    "    return C\n"
   ]
  },
  {
   "cell_type": "markdown",
   "id": "dafa7719",
   "metadata": {},
   "source": [
    "## Exercise 3.17\n",
    "\n",
    "a) Write a Python function sum_1k(M) that returns the sum s D PMkD1 k1 .\\\n",
    "b) Compute s for the case M D 3 by hand and write another function test_sum_\\\n",
    "1k() that calls sum_1k(3) and checks that the answer is correct.\\\n",
    "\n",
    "Hint Werecommendthattest_sum_1kfollows the conventions of the pytest and nose testing frameworks as explained in Sects. 3.3.3 and 3.4.2 (see also Sect. H.9). Filename: sum_func."
   ]
  },
  {
   "cell_type": "code",
   "execution_count": 88,
   "id": "071a8978",
   "metadata": {},
   "outputs": [
    {
     "ename": "TypeError",
     "evalue": "'float' object is not iterable",
     "output_type": "error",
     "traceback": [
      "\u001b[0;31m---------------------------------------------------------------------------\u001b[0m",
      "\u001b[0;31mTypeError\u001b[0m                                 Traceback (most recent call last)",
      "\u001b[0;32m/var/folders/dk/79lxr4117v126528rz8qtj200000gn/T/ipykernel_67993/2541102760.py\u001b[0m in \u001b[0;36m<module>\u001b[0;34m\u001b[0m\n\u001b[1;32m      2\u001b[0m     \u001b[0msum\u001b[0m\u001b[0;34m(\u001b[0m\u001b[0;36m1\u001b[0m\u001b[0;34m/\u001b[0m\u001b[0mk\u001b[0m\u001b[0;34m)\u001b[0m\u001b[0;34m\u001b[0m\u001b[0;34m\u001b[0m\u001b[0m\n\u001b[1;32m      3\u001b[0m \u001b[0;34m\u001b[0m\u001b[0m\n\u001b[0;32m----> 4\u001b[0;31m \u001b[0mprint\u001b[0m\u001b[0;34m(\u001b[0m\u001b[0msum_1k\u001b[0m\u001b[0;34m(\u001b[0m\u001b[0;36m3\u001b[0m\u001b[0;34m)\u001b[0m\u001b[0;34m)\u001b[0m\u001b[0;34m\u001b[0m\u001b[0;34m\u001b[0m\u001b[0m\n\u001b[0m",
      "\u001b[0;32m/var/folders/dk/79lxr4117v126528rz8qtj200000gn/T/ipykernel_67993/2541102760.py\u001b[0m in \u001b[0;36msum_1k\u001b[0;34m(m)\u001b[0m\n\u001b[1;32m      1\u001b[0m \u001b[0;32mdef\u001b[0m \u001b[0msum_1k\u001b[0m \u001b[0;34m(\u001b[0m\u001b[0mm\u001b[0m\u001b[0;34m)\u001b[0m\u001b[0;34m:\u001b[0m\u001b[0;34m\u001b[0m\u001b[0;34m\u001b[0m\u001b[0m\n\u001b[0;32m----> 2\u001b[0;31m     \u001b[0msum\u001b[0m\u001b[0;34m(\u001b[0m\u001b[0;36m1\u001b[0m\u001b[0;34m/\u001b[0m\u001b[0mk\u001b[0m\u001b[0;34m)\u001b[0m\u001b[0;34m\u001b[0m\u001b[0;34m\u001b[0m\u001b[0m\n\u001b[0m\u001b[1;32m      3\u001b[0m \u001b[0;34m\u001b[0m\u001b[0m\n\u001b[1;32m      4\u001b[0m \u001b[0mprint\u001b[0m\u001b[0;34m(\u001b[0m\u001b[0msum_1k\u001b[0m\u001b[0;34m(\u001b[0m\u001b[0;36m3\u001b[0m\u001b[0;34m)\u001b[0m\u001b[0;34m)\u001b[0m\u001b[0;34m\u001b[0m\u001b[0;34m\u001b[0m\u001b[0m\n",
      "\u001b[0;31mTypeError\u001b[0m: 'float' object is not iterable"
     ]
    }
   ],
   "source": [
    "\n",
    "\n",
    "def sum_1k (m):\n",
    "    return sum(1/k for k in range())\n",
    "\n",
    "print(sum_1k(3))"
   ]
  },
  {
   "cell_type": "markdown",
   "id": "5b591ce5",
   "metadata": {},
   "source": [
    "# Week 2"
   ]
  },
  {
   "cell_type": "markdown",
   "id": "b2fed1b4",
   "metadata": {},
   "source": [
    "## Exercise 4.4"
   ]
  },
  {
   "cell_type": "markdown",
   "id": "244e1c0c",
   "metadata": {},
   "source": [
    "## Exercise 4.9"
   ]
  },
  {
   "cell_type": "markdown",
   "id": "5e79bc04",
   "metadata": {},
   "source": [
    "## Exercise 4.10"
   ]
  },
  {
   "cell_type": "markdown",
   "id": "06912de6",
   "metadata": {},
   "source": [
    "## Exercise 4.12"
   ]
  },
  {
   "cell_type": "markdown",
   "id": "bc6e09a6",
   "metadata": {},
   "source": [
    "## Exercise 4.13"
   ]
  },
  {
   "cell_type": "markdown",
   "id": "97c8df95",
   "metadata": {},
   "source": [
    "## Exercise 4.17"
   ]
  },
  {
   "cell_type": "markdown",
   "id": "d25bec68",
   "metadata": {},
   "source": [
    "## Exercise 4.23"
   ]
  },
  {
   "cell_type": "markdown",
   "id": "1689b65b",
   "metadata": {},
   "source": [
    "# Week 3"
   ]
  },
  {
   "cell_type": "markdown",
   "id": "fb28831b",
   "metadata": {},
   "source": [
    "## Exercise 5.1"
   ]
  },
  {
   "cell_type": "markdown",
   "id": "902da65d",
   "metadata": {},
   "source": [
    "## Exercise 5.2"
   ]
  },
  {
   "cell_type": "markdown",
   "id": "4f38ad17",
   "metadata": {},
   "source": [
    "## Exercise 5.3"
   ]
  },
  {
   "cell_type": "markdown",
   "id": "8f5af0d0",
   "metadata": {},
   "source": [
    "## Exercise 5.4"
   ]
  },
  {
   "cell_type": "markdown",
   "id": "e3bb2c53",
   "metadata": {},
   "source": [
    "## Exercise 5.10"
   ]
  },
  {
   "cell_type": "markdown",
   "id": "ecdccc3b",
   "metadata": {},
   "source": [
    "## Exercise 5.12"
   ]
  },
  {
   "cell_type": "markdown",
   "id": "16f184d9",
   "metadata": {},
   "source": [
    "## Exercise 5.14"
   ]
  },
  {
   "cell_type": "markdown",
   "id": "e1a60e89",
   "metadata": {},
   "source": [
    "## Exercise 5.28"
   ]
  },
  {
   "cell_type": "markdown",
   "id": "515a3a79",
   "metadata": {},
   "source": [
    "## Exercise 5.46"
   ]
  },
  {
   "cell_type": "markdown",
   "id": "56622289",
   "metadata": {},
   "source": [
    "## Exercise 5.54"
   ]
  }
 ],
 "metadata": {
  "kernelspec": {
   "display_name": "Python 3 (ipykernel)",
   "language": "python",
   "name": "python3"
  },
  "language_info": {
   "codemirror_mode": {
    "name": "ipython",
    "version": 3
   },
   "file_extension": ".py",
   "mimetype": "text/x-python",
   "name": "python",
   "nbconvert_exporter": "python",
   "pygments_lexer": "ipython3",
   "version": "3.9.13"
  }
 },
 "nbformat": 4,
 "nbformat_minor": 5
}
